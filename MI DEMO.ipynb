{
 "cells": [
  {
   "cell_type": "markdown",
   "metadata": {},
   "source": [
    "## Multi-Accent and Multi-Lingual Voice Clone Demo with MeloTTS"
   ]
  },
  {
   "cell_type": "code",
   "execution_count": 1,
   "metadata": {},
   "outputs": [
    {
     "name": "stderr",
     "output_type": "stream",
     "text": [
      "/home/enrique/miniconda3/envs/openvoice/lib/python3.9/site-packages/tqdm/auto.py:21: TqdmWarning: IProgress not found. Please update jupyter and ipywidgets. See https://ipywidgets.readthedocs.io/en/stable/user_install.html\n",
      "  from .autonotebook import tqdm as notebook_tqdm\n"
     ]
    },
    {
     "name": "stdout",
     "output_type": "stream",
     "text": [
      "Importing the dtw module. When using in academic works please cite:\n",
      "  T. Giorgino. Computing and Visualizing Dynamic Time Warping Alignments in R: The dtw Package.\n",
      "  J. Stat. Soft., doi:10.18637/jss.v031.i07.\n",
      "\n",
      "Loaded checkpoint 'checkpoints_v2/converter/checkpoint.pth'\n",
      "missing/unexpected keys: [] []\n"
     ]
    }
   ],
   "source": [
    "import os\n",
    "import torch\n",
    "from openvoice import se_extractor\n",
    "from openvoice.api import ToneColorConverter\n",
    "\n",
    "ckpt_converter = 'checkpoints_v2/converter'\n",
    "device = \"cuda:0\" if torch.cuda.is_available() else \"cpu\"\n",
    "output_dir = 'outputs_v2'\n",
    "\n",
    "tone_color_converter = ToneColorConverter(f'{ckpt_converter}/config.json', device=device)\n",
    "tone_color_converter.load_ckpt(f'{ckpt_converter}/checkpoint.pth')\n",
    "\n",
    "os.makedirs(output_dir, exist_ok=True)"
   ]
  },
  {
   "cell_type": "markdown",
   "metadata": {},
   "source": [
    "### Obtain Tone Color Embedding\n",
    "We only extract the tone color embedding for the target speaker. The source tone color embeddings can be directly loaded from `checkpoints_v2/ses` folder."
   ]
  },
  {
   "cell_type": "code",
   "execution_count": 2,
   "metadata": {},
   "outputs": [
    {
     "name": "stdout",
     "output_type": "stream",
     "text": [
      "OpenVoice version: v2\n"
     ]
    },
    {
     "name": "stderr",
     "output_type": "stream",
     "text": [
      "Estimating duration from bitrate, this may be inaccurate\n"
     ]
    }
   ],
   "source": [
    "\n",
    "#reference_speaker = 'resources/example_reference.mp3' # This is the voice you want to clone\n",
    "reference_speaker = 'resources/training_enrique.mp3' # This is the voice you want to clone\n",
    "target_se, audio_name = se_extractor.get_se(reference_speaker, tone_color_converter, vad=False)"
   ]
  },
  {
   "cell_type": "markdown",
   "metadata": {},
   "source": [
    "#### Use MeloTTS as Base Speakers\n",
    "\n",
    "MeloTTS is a high-quality multi-lingual text-to-speech library by @MyShell.ai, supporting languages including English (American, British, Indian, Australian, Default), Spanish, French, Chinese, Japanese, Korean. In the following example, we will use the models in MeloTTS as the base speakers. "
   ]
  },
  {
   "cell_type": "code",
   "execution_count": 3,
   "metadata": {},
   "outputs": [
    {
     "name": "stdout",
     "output_type": "stream",
     "text": [
      " > Text split to sentences.\n",
      "Don't be an asshole! Consider closely every single opportunity in your career. You owe your current employer nothing other than respect and gratitude. Period! Initially, I wanted to title this lesson Unlocking Growth: The Power of Opportunity Cost in Your Career Journey,\n",
      "but finally, I decided to be frank with you and take this subtle license with a non-polite word that maybe would move you that's our intention, really to take action about this critical piece of advice we are just about to share with you here. Stay tuned!\n",
      " > ===========================\n"
     ]
    },
    {
     "name": "stderr",
     "output_type": "stream",
     "text": [
      "  0%|          | 0/2 [00:00<?, ?it/s]Some weights of the model checkpoint at bert-base-uncased were not used when initializing BertForMaskedLM: ['cls.seq_relationship.weight', 'cls.seq_relationship.bias']\n",
      "- This IS expected if you are initializing BertForMaskedLM from the checkpoint of a model trained on another task or with another architecture (e.g. initializing a BertForSequenceClassification model from a BertForPreTraining model).\n",
      "- This IS NOT expected if you are initializing BertForMaskedLM from the checkpoint of a model that you expect to be exactly identical (initializing a BertForSequenceClassification model from a BertForSequenceClassification model).\n",
      "100%|██████████| 2/2 [00:15<00:00,  8.00s/it]\n"
     ]
    }
   ],
   "source": [
    "from melo.api import TTS\n",
    "\n",
    "texts = {\n",
    "    'EN_NEWEST': \"\"\"Don’t be an asshole! \n",
    "\n",
    "Consider closely every single opportunity in your career. You owe your current employer nothing other than respect and gratitude.\n",
    "\n",
    "Period!\n",
    "\n",
    "Initially, I wanted to title this lesson «Unlocking Growth: The Power of Opportunity Cost in Your Career Journey,» but finally, I decided to be frank with you and take this subtle license with a non-polite word that maybe would move you (that’s our intention, really) to take action about this critical piece of advice we are just about to share with you here. \n",
    "\n",
    "In this first lesson to notably improve your life and your tech career as a data engineer or cloud architect, I want to share a personal story with you.\n",
    "\n",
    "It's that kind of story you don’t usually pay attention to. \n",
    "\n",
    "It is a story about loyalty and belonging.\n",
    "A story which I think you can take to your own personal or professional life and look at opportunities with a different pair of glasses, particularly a situation that maybe you have already experienced and, if not, it’s sure you will confront sometime sooner than later.\n",
    "\n",
    "**I’m talking about understanding opportunity cost.**\n",
    "\n",
    "Not just understanding the concept but how to tackle this concept with a good mindset can change your professional career to other good opportunities representing a big push in experience, projects, money… you name it!\n",
    "\n",
    "In simple terms, opportunity cost is what you forego when you choose one option over another – the 'cost' of missing out on the second-best choice. I'll share this concept through my own journey, showing you how it played a pivotal role \n",
    "in my career decisions.\n",
    "\n",
    "Hey there! I'm Enrique Catalá, a seasoned data architect with over two decades of experience in the field. Miguel and I were integral to a leading consulting firm specializing in Microsoft's data platform for over a decade. \n",
    "\n",
    "God Damm! We don’t want to look back!\n",
    "In the early days of Azure, we led the change for them, shifting from on-premises solutions to pioneering cloud-first strategies. \n",
    "\n",
    "I also was recognized as Microsoft MVP 10 years in a row! \n",
    "\n",
    "There I was, at what seemed like the zenith of my career, steering significant projects at a leading consulting firm. \n",
    "Recognition? Check. \n",
    "\n",
    "Big projects? Check. \n",
    "\n",
    "But here's the twist - comfort can be a deceptive trap.\n",
    "\n",
    "A stopper for something even… bigger!\n",
    "I still remember the day I decided to respond to a recruiter on LinkedIn. \n",
    "The reason? \n",
    "\n",
    "It involves 'pigs and flower petals' - quite an exciting story, but I'll save it for another time. This could be a good reason to stay in our newsletter, and why not? Maybe you decide to accelerate your data or cloud career in one of our mentoring programs, working with us on your own project.\n",
    "\n",
    "Nevertheless… the story for today…\n",
    "\n",
    "It turned out that this recruiter offered me an exciting position at a big insurance firm in the Netherlands. Curiosity got the best of me, and I went for it. \n",
    "\n",
    "**This decision made me confront the opportunity cost.**\n",
    "\n",
    "—Staying in one place meant missing out on innovative projects and higher salaries elsewhere. This is normal, as our brains don’t like changes or uncertainty.\n",
    "\n",
    "After that interview, more followed, and what started as mere curiosity unveiled a shocking truth: **There are always more —let’s say—challenging projects and higher salaries out there**, a stark reminder of the opportunities I missed.\n",
    "\n",
    "I didn't pay attention to the market during my last three years at that consulting firm, so I spent the opportunity cost. \n",
    "\n",
    "And let me tell you a secret: **There's a shortage of highly qualified professionals in data platform roles**\n",
    "\n",
    "-That’s not an opinion.\n",
    "\n",
    "That’s a fact. \n",
    "\n",
    "And I like the facts.\n",
    "\n",
    "As an engineer, you probably are used to liking facts, too.\n",
    "\n",
    "Accept it and make the most out of it.\n",
    "Once I embraced this reality, just two months later, I switched to where I'm working now. A place where I've rediscovered that sense of challenge I felt in my early days, but this time, thankfully, it comes with a great paycheck.\n",
    "\n",
    "And yes, I know… I had to confront that fear to…\n",
    "\n",
    "What if I change for a worse job?\n",
    "\n",
    "There is a possibility, that is right! But again, don’t lose the point… You’ve chosen with data on your hands, and if the possibility finally is not what they sold you, repeat the process.\n",
    "This is another fact… our tech world is neither ending tomorrow nor the day after tomorrow. \n",
    "\n",
    "Embrace that.\n",
    "\n",
    "And always look for a better opportunity.\n",
    "Okay, so why are you bringing up the opportunity cost? \n",
    "\n",
    "Well, it's because time went by, and Miguel was still at that consulting firm I left a while ago... and as time passed, one day after a few months, we sat down to talk about the old times.\n",
    "\n",
    "It turns out he had the same wake-up call and told me he was also in several rounds of interviews... but the best part isn't that... \n",
    "\n",
    "The best part? \n",
    "\n",
    "is that now we're working together again.\n",
    "\n",
    "Have you considered what opportunities you might miss in your current role?  \n",
    "\n",
    "Don´t wait like Miguel and me for the next ample opportunity to find you; start seeking it out today. At least… leave yourself to be “wanted”.\n",
    "\n",
    "In our next lesson 2 of this gift, «3 Cloud Data Ninjas professional tips» that you have got free by subscribing, we are going to tell you about a strange habit that, as simple as it seems, many, many people find so difficult to follow and that, with just a bit of practice and some ideas —that we will share with you— if you put it into practice and maintain it,  you will be able to make a quantitative and decisive leap for your career and your professional value so that they love you more so that they love you... \n",
    "\n",
    "But that’d be in lesson 2.\n",
    "\n",
    "Stay tuned!\n",
    "    \"\"\"\n",
    "}\n",
    "\n",
    "\n",
    "src_path = f'{output_dir}/tmp.wav'\n",
    "\n",
    "# Speed is adjustable\n",
    "speed = 1.0\n",
    "\n",
    "for language, text in texts.items():\n",
    "    model = TTS(language=language, device=device)\n",
    "    speaker_ids = model.hps.data.spk2id\n",
    "    \n",
    "    for speaker_key in speaker_ids.keys():\n",
    "        speaker_id = speaker_ids[speaker_key]\n",
    "        speaker_key = speaker_key.lower().replace('_', '-')\n",
    "        \n",
    "        source_se = torch.load(f'checkpoints_v2/base_speakers/ses/{speaker_key}.pth', map_location=device)\n",
    "        model.tts_to_file(text, speaker_id, src_path, speed=speed)\n",
    "        save_path = f'{output_dir}/output_v2_{speaker_key}.wav'\n",
    "\n",
    "        # Run the tone color converter\n",
    "        encode_message = \"@MyShell\"\n",
    "        tone_color_converter.convert(\n",
    "            audio_src_path=src_path, \n",
    "            src_se=source_se, \n",
    "            tgt_se=target_se, \n",
    "            output_path=save_path,\n",
    "            message=encode_message)"
   ]
  }
 ],
 "metadata": {
  "kernelspec": {
   "display_name": "melo",
   "language": "python",
   "name": "python3"
  },
  "language_info": {
   "codemirror_mode": {
    "name": "ipython",
    "version": 3
   },
   "file_extension": ".py",
   "mimetype": "text/x-python",
   "name": "python",
   "nbconvert_exporter": "python",
   "pygments_lexer": "ipython3",
   "version": "3.9.19"
  }
 },
 "nbformat": 4,
 "nbformat_minor": 2
}
